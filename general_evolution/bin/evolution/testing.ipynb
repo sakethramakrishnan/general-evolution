{
 "cells": [
  {
   "cell_type": "code",
   "execution_count": 2,
   "metadata": {},
   "outputs": [],
   "source": [
    "mdh_dna_seq = 'ATGAAAGTCGCAGTCCTCGGCGCTGCTGGCGGTATTGGCCAGGCGCTTGCACTACTGTTAAAAACCCAACTGCCTTCAGGTTCAGAACTCTCTCTGTATGATATCGCTCCAGTGACTCCCGGTGTGGCTGTCGATCTGAGCCATATCCCTACTGCTGTGAAAATCAAAGGTTTTTCTGGTGAAGATGCGACTCCGGCGCTGGAAGGCGCAGATGTCGTTCTTATCTCTGCAGGCGTAGCGCGTAAACCGGGTATGGATCGTTCCGACCTGTTTAACGTTAACGCCGGCATCGTGAAAAACCTGGTACAGCAAGTTGCGAAAACCTGCCCGAAAGCGTGCATTGGTATTATCACTAACCCGGTTAACACCACAGTTGCAATTGCTGCTGAAGTGCTGAAAAAAGCCGGTGTTTATGACAAAAACAAACTGTTCGGCGTTACCACGCTGGATATCATTCGTTCCAACACCTTTGTTGCGGAACTGAAAGGCAAACAGCCAGGCGAAGTTGAAGTGCCGGTTATTGGCGGTCACTCTGGTGTTACCATTCTGCCGCTGCTGTCACAGGTTCCTGGCGTTAGTTTTACCGAGCAGGAAGTGGCTGATCTGACCAAACGCATCCAGAACGCGGGTACTGAAGTGGTTGAAGCGAAGGCCGGTGGCGGGTCTGCAACCCTGTCTATGGGCCAGGCAGCTGCACGTTTTGGTCTGTCTCTGGTTCGTGCACTGCAGGGCGAACAAGGCGTTGTCGAATGTGCCTACGTTGAAGGCGACGGTCAGTACGCCCGTTTCTTCTCTCAACCGCTGCTGCTGGGTAAAAACGGCGTGGAAGAGCGTAAATCTATCGGTACCCTGAGCGCATTTGAACAGAACGCGCTGGAAGGTATGCTGGATACGCTGAAGAAAGATATCGCCCTGGGCGAAGAGTTCGTTAATAAGTAA'"
   ]
  },
  {
   "cell_type": "code",
   "execution_count": 5,
   "metadata": {},
   "outputs": [],
   "source": [
    "mdh_dna_list = [x for x in mdh_dna_seq]"
   ]
  },
  {
   "cell_type": "code",
   "execution_count": 9,
   "metadata": {},
   "outputs": [],
   "source": [
    "def change_nth_char(string, n, new_char):\n",
    "    if n < 0 or n >= len(string):\n",
    "        return \"Index out of range\"\n",
    "    else:\n",
    "        return string[:n] + new_char + string[n+1:]\n",
    "\n",
    "\n"
   ]
  },
  {
   "cell_type": "code",
   "execution_count": 16,
   "metadata": {},
   "outputs": [
    {
     "data": {
      "text/plain": [
       "'piint'"
      ]
     },
     "execution_count": 16,
     "metadata": {},
     "output_type": "execute_result"
    }
   ],
   "source": [
    "string = 'point'\n",
    "change_nth_char(string, 1, 'i')"
   ]
  },
  {
   "cell_type": "code",
   "execution_count": 17,
   "metadata": {},
   "outputs": [],
   "source": [
    "mdh_1 = change_nth_char(mdh_dna_seq, 10, 'T')"
   ]
  },
  {
   "cell_type": "code",
   "execution_count": 18,
   "metadata": {},
   "outputs": [],
   "source": [
    "mdh = change_nth_char(mdh_1, 125, 'T')"
   ]
  },
  {
   "cell_type": "code",
   "execution_count": 20,
   "metadata": {},
   "outputs": [
    {
     "name": "stdout",
     "output_type": "stream",
     "text": [
      "G\n",
      "T\n"
     ]
    }
   ],
   "source": []
  },
  {
   "cell_type": "code",
   "execution_count": 16,
   "metadata": {},
   "outputs": [],
   "source": [
    "mdh_mutated = 'ATGATAGTAGTCGTCGTCGGCGCTGCTGGTGGTATTGGCCAGGCGCTTGTACTACTATTAAAAACCCAACTGCCTTCAGGTTCAGAACTCTCTCTGTATGATATCGCTCCAGCGACTCCCGGTGTTGCTGTCGATCTGAGCCATATTCCTACTGCTGTGAAAATCAAAGGTGTTTCTGGTGAAGATGCGACGCCGGCGGTGGAAGGCGCAGATGTCGTTCTTATCTCTGCAGGCGTAGCGCGTAAACCGGGTATGGATCGTTCCGACCTGTTTAACGTCAACGCCGGCATCGTGAAAAACCTGGTACAGCAAGTTGCGAAAACCTGCCCGAAAGCGTGCATTGGTATTATCACTAACCCGGTTAACACCACAGTTGCAATTGCTGCTGAAGTGCTGAAAAAAGCCGGTGTTTATGACAAAAACAAACTGTTCGGCGTTACCACGCTGGATATCATTCGTTCCAACACCTTTGTTGCGGAACTGAAAGGCAAACAGCCAGGCGAAGTTGAAGTGCCGGTTATTGGCGGTCACTCTGGTGTTACCATTCTGCCGCTGCTGTCACAGGTTCCTGGCGTTAGTTTTACCGAGCAGGAAGTGGCTGATCTGACCAAACGCATCCAGAACGCGGGTGCTGAAGTGGTTGAAGCGAAGGCCGGTGGCGGGTCTGCAACCCTGTCTATGGGCCAGGCAGCTGCACGTTTTGGTCTGTCTCTGGTTCGTGCACTGCAGGGCGAACAAGGCGTTGTCGAATGTGCCTACGTTGAAGGCGACGGTCAGTACGCCCGTTTCTTCTCTCAACCGCTGCTGCTGGGTAAAAACGGCGTGGAAGAGCGTAAATCTATCGGTACCCTGAGCGCATTTGAACAGAACGCGCTGGAAGGTATGCTGGATACGCTGAAGAAAGATATCGCCCTGGGCGAAGAGTTCGTTAATAAGTAA'"
   ]
  },
  {
   "cell_type": "code",
   "execution_count": 13,
   "metadata": {},
   "outputs": [],
   "source": [
    "from Bio.Seq import translate\n"
   ]
  },
  {
   "cell_type": "code",
   "execution_count": 24,
   "metadata": {},
   "outputs": [],
   "source": [
    "mdh_aa = translate(mdh_dna_seq)"
   ]
  },
  {
   "cell_type": "code",
   "execution_count": 17,
   "metadata": {},
   "outputs": [],
   "source": [
    "mdh_aa_mut = translate(mdh_mutated)"
   ]
  },
  {
   "cell_type": "code",
   "execution_count": 28,
   "metadata": {},
   "outputs": [
    {
     "data": {
      "text/plain": [
       "'MKVAVLGAAGGIGQALALLLKTQLPSGSELSLYDIAPVTPGVAVDLSHIPTAVKIKGFSGEDATPALEGADVVLISAGVARKPGMDRSDLFNVNAGIVKNLVQQVAKTCPKACIGIITNPVNTTVAIAAEVLKKAGVYDKNKLFGVTTLDIIRSNTFVAELKGKQPGEVEVPVIGGHSGVTILPLLSQVPGVSFTEQEVADLTKRIQNAGTEVVEAKAGGGSATLSMGQAAARFGLSLVRALQGEQGVVECAYVEGDGQYARFFSQPLLLGKNGVEERKSIGTLSAFEQNALEGMLDTLKKDIALGEEFVNK*'"
      ]
     },
     "execution_count": 28,
     "metadata": {},
     "output_type": "execute_result"
    }
   ],
   "source": [
    "mdh_aa"
   ]
  },
  {
   "cell_type": "code",
   "execution_count": 18,
   "metadata": {},
   "outputs": [
    {
     "data": {
      "text/plain": [
       "'MIVVVVGAAGGIGQALVLLLKTQLPSGSELSLYDIAPATPGVAVDLSHIPTAVKIKGVSGEDATPAVEGADVVLISAGVARKPGMDRSDLFNVNAGIVKNLVQQVAKTCPKACIGIITNPVNTTVAIAAEVLKKAGVYDKNKLFGVTTLDIIRSNTFVAELKGKQPGEVEVPVIGGHSGVTILPLLSQVPGVSFTEQEVADLTKRIQNAGAEVVEAKAGGGSATLSMGQAAARFGLSLVRALQGEQGVVECAYVEGDGQYARFFSQPLLLGKNGVEERKSIGTLSAFEQNALEGMLDTLKKDIALGEEFVNK*'"
      ]
     },
     "execution_count": 18,
     "metadata": {},
     "output_type": "execute_result"
    }
   ],
   "source": [
    "mdh_aa_mut"
   ]
  },
  {
   "cell_type": "code",
   "execution_count": 6,
   "metadata": {},
   "outputs": [
    {
     "name": "stdout",
     "output_type": "stream",
     "text": [
      "[3, 2]\n",
      "[((8, 'C', 'T'), 3), ((35, 'T', 'C'), 3), ((50, 'A', 'C'), 2), ((92, 'T', 'C'), 2), ((98, 'T', 'C'), 2), ((113, 'G', 'A'), 2), ((128, 'T', 'G'), 2), ((131, 'C', 'T'), 2), ((173, 'T', 'C'), 2), ((176, 'T', 'C'), 2), ((191, 'T', 'C'), 2), ((194, 'G', 'T'), 2), ((206, 'C', 'T'), 2), ((209, 'A', 'T'), 2)]\n"
     ]
    }
   ],
   "source": [
    "def select_top_n(numbers: list[int], n):\n",
    "    sorted_numbers = sorted(numbers, reverse=True)\n",
    "    top_n = sorted_numbers[:n]\n",
    "    return top_n\n",
    "\n",
    "def top_n_occurrences(data: list[tuple], n):\n",
    "    \n",
    "    occurence_of_num_models = [] # num_models: occurrence\n",
    "    \n",
    "    for tup in data:\n",
    "        models = tup[1]\n",
    "        if models not in occurence_of_num_models:\n",
    "            occurence_of_num_models.append(models)\n",
    "        \n",
    "    top_n_occurrences = select_top_n(occurence_of_num_models, n)\n",
    "    print(top_n_occurrences)\n",
    "    return_muts = []\n",
    "    \n",
    "    for tup in data:\n",
    "        models = tup[1]\n",
    "        if models in top_n_occurrences:\n",
    "            return_muts.append(tup)\n",
    "    \n",
    "    return return_muts\n",
    "    \n",
    "\n",
    "data = [((8, 'C', 'T'), 3), ((35, 'T', 'C'), 3), ((50, 'A', 'C'), 2), ((92, 'T', 'C'), 2), ((98, 'T', 'C'), 2), ((113, 'G', 'A'), 2), ((128, 'T', 'G'), 2), ((131, 'C', 'T'), 2), ((173, 'T', 'C'), 2), ((176, 'T', 'C'), 2), ((191, 'T', 'C'), 2), ((194, 'G', 'T'), 2), ((206, 'C', 'T'), 2), ((209, 'A', 'T'), 2), ((331, 'G', 'C'), 1)]\n",
    "\n",
    "n = 2\n",
    "top_n = top_n_occurrences(data, n)\n",
    "print(top_n)\n"
   ]
  },
  {
   "cell_type": "code",
   "execution_count": 10,
   "metadata": {},
   "outputs": [],
   "source": [
    "genetic_str = 'ATGAAAGTCGCAGTCCTCGGCGCTGCTGGCGGTATTGGCCAGGCGCTTGCACTACTGTTAAAAACCCAACTGCCTTCAGGTTCAGAACTCTCTCTGTATGATATCGCTCCAGTGACTCCCGGTGTGGCTGTCGATCTGAGCCATATCCCTACTGCTGTGAAAATCAAAGGTTTTTCTGGTGAAGATGCGACTCCGGCGCTGGAAGGCGCAGATGTCGTTCTTATCTCTGCAGGCGTAGCGCGTAAACCGGGTATGGATCGTTCCGACCTGTTTAACGTTAACGCCGGCATCGTGAAAAACCTGGTACAGCAAGTTGCGAAAACCTGCCCGAAAGCGTGCATTGGTATTATCACTAACCCGGTTAACACCACAGTTGCAATTGCTGCTGAAGTGCTGAAAAAAGCCGGTGTTTATGACAAAAACAAACTGTTCGGCGTTACCACGCTGGATATCATTCGTTCCAACACCTTTGTTGCGGAACTGAAAGGCAAACAGCCAGGCGAAGTTGAAGTGCCGGTTATTGGCGGTCACTCTGGTGTTACCATTCTGCCGCTGCTGTCACAGGTTCCTGGCGTTAGTTTTACCGAGCAGGAAGTGGCTGATCTGACCAAACGCATCCAGAACGCGGGTACTGAAGTGGTTGAAGCGAAGGCCGGTGGCGGGTCTGCAACCCTGTCTATGGGCCAGGCAGCTGCACGTTTTGGTCTGTCTCTGGTTCGTGCACTGCAGGGCGAACAAGGCGTTGTCGAATGTGCCTACGTTGAAGGCGACGGTCAGTACGCCCGTTTCTTCTCTCAACCGCTGCTGCTGGGTAAAAACGGCGTGGAAGAGCGTAAATCTATCGGTACCCTGAGCGCATTTGAACAGAACGCGCTGGAAGGTATGCTGGATACGCTGAAGAAAGATATCGCCCTGGGCGAAGAGTTCGTTAATAAGTAA'"
   ]
  },
  {
   "cell_type": "code",
   "execution_count": 11,
   "metadata": {},
   "outputs": [
    {
     "data": {
      "text/plain": [
       "'A'"
      ]
     },
     "execution_count": 11,
     "metadata": {},
     "output_type": "execute_result"
    }
   ],
   "source": [
    "genetic_str[236]"
   ]
  },
  {
   "cell_type": "code",
   "execution_count": 9,
   "metadata": {},
   "outputs": [
    {
     "name": "stdout",
     "output_type": "stream",
     "text": [
      "['X', 'A', 'T', 'A', 'G', 'A', 'C', 'A', 'T', 'G', 'A', 'C']\n"
     ]
    }
   ],
   "source": [
    "list_str = list(genetic_str)\n",
    "list_str[0] = 'X'\n",
    "print(list_str)"
   ]
  }
 ],
 "metadata": {
  "kernelspec": {
   "display_name": "Python 3.10.12 ('my_env': venv)",
   "language": "python",
   "name": "python3"
  },
  "language_info": {
   "codemirror_mode": {
    "name": "ipython",
    "version": 3
   },
   "file_extension": ".py",
   "mimetype": "text/x-python",
   "name": "python",
   "nbconvert_exporter": "python",
   "pygments_lexer": "ipython3",
   "version": "3.10.12"
  },
  "orig_nbformat": 4,
  "vscode": {
   "interpreter": {
    "hash": "a4a63e231ff0e7ae3960790f0afd08e4391dd3a8d894dec2e38214c9959b3b87"
   }
  }
 },
 "nbformat": 4,
 "nbformat_minor": 2
}
